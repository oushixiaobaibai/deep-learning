{
 "cells": [
  {
   "cell_type": "code",
   "execution_count": 1,
   "metadata": {},
   "outputs": [
    {
     "name": "stdout",
     "output_type": "stream",
     "text": [
      "data shape: (1797, 64)\n",
      "target shape: (1797,)\n"
     ]
    },
    {
     "data": {
      "image/png": "[encoded data removed]",
      "text/plain": [
       "<Figure size 432x288 with 1 Axes>"
      ]
     },
     "metadata": {
      "needs_background": "light"
     },
     "output_type": "display_data"
    }
   ],
   "source": [
    "from sklearn.datasets import load_digits \n",
    "import matplotlib.pyplot as plt \n",
    "# 载入手写数字数据 \n",
    "digits = load_digits() \n",
    "# 打印数据集的 shape，行表示数据集个数，列表示每个数据的特征数 \n",
    "print('data shape:',digits.data.shape) \n",
    "# 打印数据标签的 shape，数据标签的值为 0-9 \n",
    "print('target shape:',digits.target.shape) \n",
    "# 准备显示第 0 张图片，图片为灰度图 \n",
    "plt.imshow(digits.images[0],cmap='gray') \n",
    "# 显示图片 \n",
    "plt.show()"
   ]
  },
  {
   "cell_type": "code",
   "execution_count": 14,
   "metadata": {},
   "outputs": [],
   "source": [
    "# 导入 numpy 科学计算库 \n",
    "import numpy as np \n",
    "# 载入画图工具包\n",
    "import matplotlib.pyplot as plt \n",
    "# 导入手写数字数据集 \n",
    "from sklearn.datasets import load_digits\n",
    "# 用于标签二值化处理，把标签转成独热编码 one-hot 的格式 \n",
    "from sklearn.preprocessing import LabelBinarizer \n",
    "# 用于把数据集拆分为训练集和测试集 \n",
    "from sklearn.model_selection import train_test_split \n",
    "# 用于评估分类结果 \n",
    "from sklearn.metrics import classification_report,confusion_matrix\n",
    "\n",
    "#定义sigmoid函数\n",
    "def sigmoid(x):\n",
    "    return 1/(1+np.exp(-x))\n",
    "#定义sigmoid函数导数\n",
    "def dsigmoid(x):\n",
    "    return x*(1-x)\n"
   ]
  },
  {
   "cell_type": "code",
   "execution_count": 15,
   "metadata": {},
   "outputs": [
    {
     "name": "stdout",
     "output_type": "stream",
     "text": [
      "Start training\n",
      "steps:0 accuracy:0.078 loss:12.511\n",
      "steps:3000 accuracy:0.753 loss:3.257\n",
      "steps:6000 accuracy:0.878 loss:1.538\n",
      "steps:9000 accuracy:0.882 loss:1.516\n",
      "steps:12000 accuracy:0.882 loss:1.646\n",
      "steps:15000 accuracy:0.953 loss:0.537\n",
      "steps:18000 accuracy:0.969 loss:0.376\n",
      "steps:21000 accuracy:0.969 loss:0.339\n",
      "steps:24000 accuracy:0.971 loss:0.394\n",
      "steps:27000 accuracy:0.973 loss:0.313\n",
      "steps:30000 accuracy:0.971 loss:0.341\n",
      "              precision    recall  f1-score   support\n",
      "\n",
      "           0       1.00      1.00      1.00        41\n",
      "           1       0.91      1.00      0.95        42\n",
      "           2       1.00      1.00      1.00        49\n",
      "           3       1.00      0.93      0.97        46\n",
      "           4       0.98      0.98      0.98        53\n",
      "           5       0.92      0.98      0.95        45\n",
      "           6       1.00      1.00      1.00        52\n",
      "           7       1.00      1.00      1.00        41\n",
      "           8       0.95      0.93      0.94        40\n",
      "           9       0.95      0.88      0.91        41\n",
      "\n",
      "    accuracy                           0.97       450\n",
      "   macro avg       0.97      0.97      0.97       450\n",
      "weighted avg       0.97      0.97      0.97       450\n",
      "\n",
      "[[41  0  0  0  0  0  0  0  0  0]\n",
      " [ 0 42  0  0  0  0  0  0  0  0]\n",
      " [ 0  0 49  0  0  0  0  0  0  0]\n",
      " [ 0  0  0 43  0  3  0  0  0  0]\n",
      " [ 0  0  0  0 52  0  0  0  0  1]\n",
      " [ 0  0  0  0  0 44  0  0  0  1]\n",
      " [ 0  0  0  0  0  0 52  0  0  0]\n",
      " [ 0  0  0  0  0  0  0 41  0  0]\n",
      " [ 0  3  0  0  0  0  0  0 37  0]\n",
      " [ 0  1  0  0  1  1  0  0  2 36]]\n"
     ]
    },
    {
     "data": {
      "image/png": "[encoded data removed]",
      "text/plain": [
       "<Figure size 432x288 with 1 Axes>"
      ]
     },
     "metadata": {
      "needs_background": "light"
     },
     "output_type": "display_data"
    },
    {
     "data": {
      "image/png": "[encoded data removed]",
      "text/plain": [
       "<Figure size 432x288 with 1 Axes>"
      ]
     },
     "metadata": {
      "needs_background": "light"
     },
     "output_type": "display_data"
    }
   ],
   "source": [
    "#定义神经网络分类\n",
    "class NeuralNetwork: \n",
    "    # 初始化网络，定义网络结构 \n",
    "    # 假设传入(64,100,10)，说明定义： \n",
    "    # 输入层 64 个神经元，隐藏层 100 个神经元，输出层 10 个神经元 （为什么10个神经元？？）\n",
    "    def __init__(self,layers): \n",
    "        # 权值的初始化，范围-1 到 1 \n",
    "        self.W1 = np.random.random([layers[0],layers[1]])*2-1 \n",
    "        self.W2 = np.random.random([layers[1],layers[2]])*2-1 \n",
    "        # 初始化偏置值 \n",
    "        self.b1 = np.zeros([layers[1]]) \n",
    "        self.b2 = np.zeros([layers[2]]) \n",
    "        # 定义空 list 用于保存 list \n",
    "        self.loss = [] \n",
    "        # 定义空 list 用于保存 \n",
    "        self.accuracy = [] \n",
    "    # 训练模型 \n",
    "    # X 为数据输入 \n",
    "    # T 为数据对应的标签 \n",
    "    # lr 学习率 \n",
    "    # steps 训练次数 \n",
    "    # batch 批次大小 \n",
    "    # 使用批量随机梯度下降法，每次随机抽取一个批次的数据进行训练 \n",
    "    def train(self,X,T,lr=0.1,steps=20000,test=5000,batch=50): \n",
    "    # 进行 steps+1 次训练\n",
    "        for n in range(steps+1): \n",
    "            # 随机选取一个批次数据 \n",
    "            index = np.random.randint(0,X.shape[0],batch)  \n",
    "            x = X[index] \n",
    "            # 计算隐藏层输出 \n",
    "            L1 = sigmoid(np.dot(x,self.W1)+self.b1) \n",
    "            # 计算输出层输出 \n",
    "            L2 = sigmoid(np.dot(L1,self.W2)+self.b2) \n",
    "            # 求输出层的学习信号 \n",
    "            delta_L2 = (T[index]-L2)*dsigmoid(L2) \n",
    "            # 求隐藏层的学习信号 \n",
    "            delta_L1= delta_L2.dot(self.W2.T)*dsigmoid(L1) \n",
    "            # 求隐藏层到输出层的权值改变 \n",
    "            # 由于一次计算了多个样本，所以需要求平均 \n",
    "            self.W2 += lr * L1.T.dot(delta_L2) / x.shape[0] \n",
    "            # 求输入层到隐藏层的权值改变 \n",
    "            # 由于一次计算了多个样本，所以需要求平均 \n",
    "            self.W1 += lr * x.T.dot(delta_L1) / x.shape[0] \n",
    "             # 改变偏置值\n",
    "            self.b2 = self.b2 + lr * np.mean(delta_L2, axis=0) \n",
    "            self.b1 = self.b1 + lr * np.mean(delta_L1, axis=0) \n",
    "             \n",
    "            # 每训练 5000 次预测一次准确率 \n",
    "            if n%test==0: \n",
    "                # 预测测试集的预测结果 \n",
    "                Y2 = self.predict(X_test) \n",
    "                # 取得预测结果最大的所在的索引 \n",
    "                # 例如最大值所在的索引是 3，那么预测结果就是 3 \n",
    "                predictions = np.argmax(Y2,axis=1) \n",
    "                # 计算准确率 \n",
    "                # np.equal(predictions,y_test)判断预测结果和真实标签是否相等，相等返回True，不相等返回 False \n",
    "                # np.equal(predictions,y_test)执行后得到一个包含多个 True 和 False 的列表 \n",
    "                # 然后用 np.mean 对列表求平均 True 为 1，False 为 0。 \n",
    "                # 例如一共有 10 个结果，9 个 True，一个 False，平均后的结果为 0.9，即预测的准确率为 90% \n",
    "                acc = np.mean(np.equal(predictions,y_test)) \n",
    "                # 计算 loss \n",
    "                l = np.mean(np.square(y_test - predictions) / 2) \n",
    "                # 保存准确率 \n",
    "                self.accuracy.append(acc) \n",
    "                # 保存 loss 值 \n",
    "                self.loss.append(l) \n",
    "                # 打印训练次数,准确率和 loss \n",
    "                print('steps:%d accuracy:%.3f loss:%.3f' % (n,acc,l))  \n",
    "                # 模型预测结果 \n",
    "    def predict(self,x): \n",
    "        L1 = sigmoid(np.dot(x,self.W1)+self.b1)#隐层输出 \n",
    "        L2 = sigmoid(np.dot(L1,self.W2)+self.b2)#输出层输出 \n",
    "        return L2 \n",
    "# 程序从这里开始运行 \n",
    "# 定义训练次数 \n",
    "steps = 30001 \n",
    "# 定义测试周期数 \n",
    "test = 3000 \n",
    "# 载入数据 \n",
    "digits = load_digits() \n",
    "# 得到数据 \n",
    "X = digits.data \n",
    "# 得到标签 \n",
    "y = digits.target \n",
    "# 输入数据归一化，有助于加快训练速度 \n",
    "# X 中原来的数值范围是 0-255 之间，归一化后变成 0-1 之间 \n",
    "X -= X.min() \n",
    "X /= X.max() - X.min() \n",
    "# 分割数据 1/4 为测试数据，3/4 为训练数据 \n",
    "# 有 1347 个训练数据，450 个测试数据 \n",
    "X_train,X_test,y_train,y_test = train_test_split(X,y,test_size=0.25)  \n",
    " \n",
    "# 创建网络,输入层 64 个神经元，隐藏层 100 个神经元，输出层 10 个神经元 \n",
    "nm = NeuralNetwork([64,100,10]) \n",
    "# 标签转化为独热编码 one-hot 的格式 \n",
    "labels_train = LabelBinarizer().fit_transform(y_train) \n",
    " \n",
    "# 开始训练 \n",
    "print('Start training') \n",
    "nm.train(X_train,labels_train,steps=steps,test=test) \n",
    " \n",
    "# 预测测试数据 \n",
    "predictions = nm.predict(X_test)  \n",
    "# predictions.shape 为(450,10) \n",
    "# y_test.shape 为(450,) \n",
    "# 所以需要取得预测结果最大的所在的索引，该索引就是网络预测的结果 \n",
    "# np.argmax(predictions,axis=1)执行后得到的形状也变成了(450,) \n",
    "predictions = np.argmax(predictions,axis=1) \n",
    "# 对比测试数据的真实标签与网络预测结果，得到准确率，召回率和 F1 值 \n",
    "print(classification_report(y_test,predictions)) \n",
    "# 对于测试数据的真实标签与网络预测结果，得到混淆矩阵 \n",
    "print(confusion_matrix(y_test,predictions)) \n",
    " \n",
    "# 训练次数与 loss 的关系图 \n",
    "plt.plot(range(0,steps+1,test),nm.loss) \n",
    "plt.xlabel('steps') \n",
    "plt.ylabel('loss') \n",
    "plt.show() \n",
    " \n",
    "# 训练次数与 accuracy 的关系图 \n",
    "plt.plot(range(0,steps+1,test),nm.accuracy) \n",
    "plt.xlabel('steps') \n",
    "plt.ylabel('accuracy') \n",
    "plt.show()\n"
   ]
  },
  {
   "cell_type": "code",
   "execution_count": null,
   "metadata": {},
   "outputs": [],
   "source": []
  }
 ],
 "metadata": {
  "kernelspec": {
   "display_name": "Python 3",
   "language": "python",
   "name": "python3"
  },
  "language_info": {
   "codemirror_mode": {
    "name": "ipython",
    "version": 3
   },
   "file_extension": ".py",
   "mimetype": "text/x-python",
   "name": "python",
   "nbconvert_exporter": "python",
   "pygments_lexer": "ipython3",
   "version": "3.7.6"
  }
 },
 "nbformat": 4,
 "nbformat_minor": 4
}
