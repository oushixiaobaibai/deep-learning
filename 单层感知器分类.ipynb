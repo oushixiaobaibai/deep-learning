{
 "cells": [
  {
   "cell_type": "code",
   "execution_count": 5,
   "metadata": {},
   "outputs": [
    {
     "name": "stdout",
     "output_type": "stream",
     "text": [
      "epoch: 1\n",
      "weights: [[0.05711258]\n",
      " [0.33054281]\n",
      " [0.75710676]]\n",
      "epoch: 2\n",
      "weights: [[-0.04288742]\n",
      " [ 0.18054281]\n",
      " [ 0.65710676]]\n",
      "epoch: 3\n",
      "weights: [[-0.14288742]\n",
      " [ 0.03054281]\n",
      " [ 0.55710676]]\n",
      "epoch: 4\n",
      "weights: [[-0.24288742]\n",
      " [-0.11945719]\n",
      " [ 0.45710676]]\n",
      "epoch: 5\n",
      "weights: [[-0.29288742]\n",
      " [-0.16945719]\n",
      " [ 0.40710676]]\n",
      "Finished\n"
     ]
    },
    {
     "data": {
      "image/png": "[encoded data removed]",
      "text/plain": [
       "<Figure size 432x288 with 1 Axes>"
      ]
     },
     "metadata": {
      "needs_background": "light"
     },
     "output_type": "display_data"
    }
   ],
   "source": [
    "import numpy as np \n",
    "import matplotlib.pyplot as plt \n",
    "# 定义输入，我们习惯上用一行代表一个数据 \n",
    "X = np.array([[1,3,3], \n",
    "              [1,4,3], \n",
    "              [1,1,1], \n",
    "              [1,2,1]]) \n",
    "# 定义标签，我们习惯上用一行表示一个数据的标签 \n",
    "T = np.array([[1], \n",
    "              [1], \n",
    "              [-1], \n",
    "              [-1]]) \n",
    " \n",
    "# 权值初始化，3 行 1 列 \n",
    "# np.random.random 可以生成 0-1 的随机数 \n",
    "W = np.random.random([3,1]) \n",
    "# 学习率设置 \n",
    "lr = 0.1 \n",
    "# 神经网络输出 \n",
    "Y = 0 \n",
    " \n",
    "# 更新一次权值 \n",
    "def train(): \n",
    "    # 使用全局变量 W \n",
    "    global W \n",
    "    # 同时计算 4 个数据的预测值 \n",
    "    # Y 的形状为(4,1)-4 行 1 列 \n",
    "    Y = np.sign(np.dot(X,W))  \n",
    "    # T - Y 得到 4 个的标签值与预测值的误差 E。形状为(4,1) \n",
    "    E = T - Y  \n",
    "    # X.T 表示 X 的转置矩阵，形状为(3,4) \n",
    "    # 我们一共有 4 个数据，每个数据 3 个值。定义第 i 个数据的第 j 个特征值为 xij \n",
    "    # 如第 1 个数据，第 2 个值为 x12 \n",
    "    # X.T.dot(T - Y)为一个 3 行 1 列的数据： \n",
    "    # 第 1 行等于：x00×e0+x10×e1+x20×e2+x30×e3，它会调整第 1 个神经元对应的权值 \n",
    "    # 第 2 行等于：x01×e0+x11×e1+x21×e2+x31×e3，它会调整第 2 个神经元对应的权值 \n",
    "    # 第 3 行等于：x02×e0+x12×e1+x22×e2+x32×e3，它会影调整 3 个神经元对应的权值 \n",
    "    # X.shape 表示 X 的形状 X.shape[0]得到 X 的行数，表示有多少个数据 \n",
    "# X.shape[1]得到列数，表示每个数据有多少个特征值。 \n",
    "# 这里的公式跟书中公式 3.2 看起来有些不同，原因是这里的计算是矩阵运算，书中公式 3.2 是单个元素的计算。如果在草稿子上仔细推算的话你会发现它们的本质是一样的 \n",
    "    delta_W = lr * (X.T.dot(E)) / X.shape[0] \n",
    "    W = W + delta_W \n",
    "# 训练 100 次\n",
    "for i in range(100): \n",
    "    #更新一次权值 \n",
    "    train() \n",
    "    # 打印当前训练次数 \n",
    "    print('epoch:',i + 1) \n",
    "    # 打印当前权值 \n",
    "    print('weights:',W) \n",
    "    # 计算当前输出  \n",
    "    Y = np.sign(np.dot(X,W))  \n",
    "    # .all()表示 Y 中的所有值跟 T 中所有值都对应相等，结果才为真 \n",
    "    if(Y == T).all():  \n",
    "        print('Finished') \n",
    "        # 跳出循环 \n",
    "        break \n",
    " \n",
    "#————————以下为画图部分————————# \n",
    "# 正样本的 xy 坐标 \n",
    "x1 = [3,4] \n",
    "y1 = [3,3] \n",
    "# 负样本的 xy 坐标 \n",
    "x2 = [1,2] \n",
    "y2 = [1,1] \n",
    " \n",
    "# 计算分类边界线的斜率以及截距 \n",
    "# 神经网络的信号总和为 w0×x0+w1×x1+w2×x2 \n",
    "# 当信号总和大于 0 再进过激活函数，模型的预测值会得到 1 \n",
    "# 当信号总和小于 0 再进过激活函数，模型的预测值会得到-1 \n",
    "# 所以当信号总和 w0×x0+w1×x1+w2×x2=0 时为分类边界线表达式 \n",
    "# 我们在画图的时候把 x1，x2 分别看成是平面坐标系中的 x 和 y \n",
    "# 可以得到：w0 + w1×x + w2 × y = 0 \n",
    "# 经过通分：y = -w0/w2 - w1×x/w2，因此可以得到： \n",
    "k = - W[1] / W[2] \n",
    "d =  -W[0] / W[2] \n",
    "# 设定两个点 \n",
    "xdata = (0,5) \n",
    "# 通过两个点来确定一条直线，用红色的线来画出分界线 \n",
    "plt.plot(xdata,xdata * k + d,'r') \n",
    "# 用蓝色的点画出正样本 \n",
    "plt.scatter(x1,y1,c='b') \n",
    "# 用黄色的点来画出负样本 \n",
    "plt.scatter(x2,y2,c='y') \n",
    "# 显示图案 \n",
    "plt.show() "
   ]
  },
  {
   "cell_type": "code",
   "execution_count": 6,
   "metadata": {},
   "outputs": [
    {
     "name": "stdout",
     "output_type": "stream",
     "text": [
      "C:\\Users\\HUAWEI\n"
     ]
    }
   ],
   "source": []
  },
  {
   "cell_type": "code",
   "execution_count": null,
   "metadata": {},
   "outputs": [],
   "source": []
  }
 ],
 "metadata": {
  "kernelspec": {
   "display_name": "Python 3",
   "language": "python",
   "name": "python3"
  },
  "language_info": {
   "codemirror_mode": {
    "name": "ipython",
    "version": 3
   },
   "file_extension": ".py",
   "mimetype": "text/x-python",
   "name": "python",
   "nbconvert_exporter": "python",
   "pygments_lexer": "ipython3",
   "version": "3.8.5"
  }
 },
 "nbformat": 4,
 "nbformat_minor": 4
}
