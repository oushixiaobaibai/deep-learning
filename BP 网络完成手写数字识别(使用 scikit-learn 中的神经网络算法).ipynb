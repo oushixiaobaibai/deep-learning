{
 "cells": [
  {
   "cell_type": "code",
   "execution_count": 1,
   "metadata": {},
   "outputs": [],
   "source": [
    "# 载入 BP 神经网络算法 \n",
    "from sklearn.neural_network import MLPClassifier  \n",
    "from sklearn.datasets import load_digits \n",
    "from sklearn.model_selection import train_test_split \n",
    "from sklearn.metrics import classification_report "
   ]
  },
  {
   "cell_type": "code",
   "execution_count": 3,
   "metadata": {},
   "outputs": [
    {
     "name": "stdout",
     "output_type": "stream",
     "text": [
      "              precision    recall  f1-score   support\n",
      "\n",
      "           0       1.00      0.93      0.97        45\n",
      "           1       0.94      0.98      0.96        48\n",
      "           2       0.97      0.97      0.97        36\n",
      "           3       1.00      1.00      1.00        45\n",
      "           4       0.94      0.96      0.95        49\n",
      "           5       0.98      0.98      0.98        46\n",
      "           6       0.96      1.00      0.98        48\n",
      "           7       1.00      0.93      0.96        44\n",
      "           8       0.93      0.97      0.95        40\n",
      "           9       0.98      0.96      0.97        49\n",
      "\n",
      "    accuracy                           0.97       450\n",
      "   macro avg       0.97      0.97      0.97       450\n",
      "weighted avg       0.97      0.97      0.97       450\n",
      "\n"
     ]
    }
   ],
   "source": [
    "import matplotlib.pyplot as plt \n",
    "#载入数据 \n",
    "digits = load_digits() \n",
    "#数据 \n",
    "x_data = digits.data  \n",
    "#标签 \n",
    "y_data = digits.target  \n",
    "# X 中原来的数值范围是 0-255 之间，归一化后变成 0-1 之间 \n",
    "x_data -= x_data.min() \n",
    "x_data /= x_data.max() - x_data.min() \n",
    "# 分割数据 1/4 为测试数据，3/4 为训练数据 \n",
    "# 有 1347 个训练数据，450 个测试数据 \n",
    "x_train,x_test,y_train,y_test = train_test_split(x_data,y_data,test_size=0.25)  \n",
    "# 定义神经网络模型，模型输入神经元个数和输出神经元个数不需要设置 \n",
    "# hidden_layer_sizes 用于设置隐藏层结构： \n",
    "# 比如(50)表示有 1 个隐藏层，隐藏层神经元个数为 50 \n",
    "# 比如(100,20)表示有 2 个隐藏层，第 1 个隐藏层有 100 个神经元，第 2 个隐藏层有 20 个神经元 \n",
    "# 比如(100,20,10)表示 3 个隐藏层，神经元个数分别为 100，20，10 \n",
    "# max_iter 设置训练次数 \n",
    "mlp = MLPClassifier(hidden_layer_sizes=(100,20), max_iter=500) \n",
    "# fit 传入训练集数据开始训练模型 \n",
    "mlp.fit(x_train,y_train) \n",
    "# predict 用于模型预测 \n",
    "predictions = mlp.predict(x_test) \n",
    "# 标签数据和模型预测数据进行对比，计算分类评估指标 \n",
    "print(classification_report(y_test, predictions)) "
   ]
  },
  {
   "cell_type": "code",
   "execution_count": null,
   "metadata": {},
   "outputs": [],
   "source": []
  }
 ],
 "metadata": {
  "kernelspec": {
   "display_name": "Python 3",
   "language": "python",
   "name": "python3"
  },
  "language_info": {
   "codemirror_mode": {
    "name": "ipython",
    "version": 3
   },
   "file_extension": ".py",
   "mimetype": "text/x-python",
   "name": "python",
   "nbconvert_exporter": "python",
   "pygments_lexer": "ipython3",
   "version": "3.8.5"
  }
 },
 "nbformat": 4,
 "nbformat_minor": 4
}
